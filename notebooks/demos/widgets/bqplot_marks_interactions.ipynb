{
 "cells": [
  {
   "cell_type": "code",
   "execution_count": null,
   "metadata": {},
   "outputs": [],
   "source": [
    "import numpy as np\n",
    "\n",
    "from bqplot import *\n",
    "import bqplot.pyplot as plt"
   ]
  },
  {
   "cell_type": "markdown",
   "metadata": {},
   "source": [
    "In this example, will will add a click select interaction. We can select specific points by clicking. The `selected` trait of the mark gets updated and we can resgister callbacks on this change to do custom processing"
   ]
  },
  {
   "cell_type": "code",
   "execution_count": null,
   "metadata": {},
   "outputs": [],
   "source": [
    "# simple scatter plot\n",
    "scat_fig = plt.figure(animation_duration=500)\n",
    "\n",
    "# create x and y data attributes\n",
    "x, y = np.arange(10), np.random.rand(10)\n",
    "scat_mark = plt.scatter(x, y, default_size=200, colors=['orangered'], \n",
    "                        stroke='black', \n",
    "                        interactions={'click': 'select'},\n",
    "                        selected_style={'fill': 'blue'})\n",
    "scat_fig"
   ]
  },
  {
   "cell_type": "code",
   "execution_count": null,
   "metadata": {},
   "outputs": [],
   "source": [
    "scat_mark.selected = [3]"
   ]
  },
  {
   "cell_type": "code",
   "execution_count": null,
   "metadata": {},
   "outputs": [],
   "source": [
    "def move_selected_point(*args):\n",
    "    if scat_mark.selected is not None:\n",
    "        sel_ix = scat_mark.selected[0]\n",
    "\n",
    "        # updating lists in place will not trigger UI updates!!\n",
    "        # THIS WILL NOT WORK\n",
    "        # scat.x[sel_ix] += 1\n",
    "\n",
    "        # make a copy of x!!\n",
    "        new_x = [x for x in scat_mark.x]\n",
    "        new_x[sel_ix] += 1\n",
    "        # reset scat.x\n",
    "        scat_mark.x = new_x\n",
    "scat_mark.observe(move_selected_point, 'selected')"
   ]
  }
 ],
 "metadata": {
  "kernelspec": {
   "display_name": "Python 3",
   "language": "python",
   "name": "python3"
  },
  "language_info": {
   "codemirror_mode": {
    "name": "ipython",
    "version": 3
   },
   "file_extension": ".py",
   "mimetype": "text/x-python",
   "name": "python",
   "nbconvert_exporter": "python",
   "pygments_lexer": "ipython3",
   "version": "3.7.3"
  }
 },
 "nbformat": 4,
 "nbformat_minor": 2
}
