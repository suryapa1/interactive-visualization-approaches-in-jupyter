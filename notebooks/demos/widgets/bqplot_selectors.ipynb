{
 "cells": [
  {
   "cell_type": "code",
   "execution_count": null,
   "metadata": {
    "collapsed": true,
    "deletable": true,
    "editable": true
   },
   "outputs": [],
   "source": [
    "import numpy as np\n",
    "\n",
    "import ipywidgets as widgets\n",
    "\n",
    "from bqplot import *\n",
    "from bqplot.interacts import *\n",
    "import bqplot.pyplot as plt"
   ]
  },
  {
   "cell_type": "code",
   "execution_count": null,
   "metadata": {
    "collapsed": false,
    "deletable": true,
    "editable": true
   },
   "outputs": [],
   "source": [
    "# simple line plot\n",
    "line_fig = plt.figure(title='Time Series')\n",
    "line_fig.layout.width = '960px'\n",
    "\n",
    "# create a random walk\n",
    "y = np.random.randn(100).cumsum()\n",
    "line_mark = plt.plot(np.arange(100), y, colors=['dodgerblue'])\n",
    "\n",
    "# create a fast interval selector\n",
    "intsel = FastIntervalSelector(scale=line_mark.scales['x'], marks=[line_mark])\n",
    "line_fig.interaction = intsel\n",
    "\n",
    "line_fig\n",
    "\n",
    "# create a label\n",
    "label = widgets.Label()\n",
    "\n",
    "widgets.HBox([line_fig, label])"
   ]
  },
  {
   "cell_type": "code",
   "execution_count": null,
   "metadata": {
    "collapsed": false,
    "deletable": true,
    "editable": true
   },
   "outputs": [],
   "source": [
    "def on_selected(*args):\n",
    "    selected = line_mark.selected\n",
    "    if selected and len(selected) > 2:\n",
    "        label.value = 'selected range: [{}, {}]'.format(selected[0], selected[-1])\n",
    "\n",
    "line_mark.observe(on_selected, 'selected')"
   ]
  }
 ],
 "metadata": {
  "kernelspec": {
   "display_name": "Python 3",
   "language": "python",
   "name": "python3"
  },
  "language_info": {
   "codemirror_mode": {
    "name": "ipython",
    "version": 3
   },
   "file_extension": ".py",
   "mimetype": "text/x-python",
   "name": "python",
   "nbconvert_exporter": "python",
   "pygments_lexer": "ipython3",
   "version": "3.7.3"
  }
 },
 "nbformat": 4,
 "nbformat_minor": 2
}
