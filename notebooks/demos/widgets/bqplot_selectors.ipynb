{
 "cells": [
  {
   "cell_type": "code",
   "execution_count": null,
   "metadata": {},
   "outputs": [],
   "source": [
    "import numpy as np\n",
    "\n",
    "from bqplot import *\n",
    "from bqplot.interacts import *\n",
    "import bqplot.pyplot as plt"
   ]
  },
  {
   "cell_type": "markdown",
   "metadata": {},
   "source": [
    "* 1D selectors: Used to select a slice of x\n",
    "* 2D selectors: Used to select a slice of x and y"
   ]
  },
  {
   "cell_type": "code",
   "execution_count": null,
   "metadata": {},
   "outputs": [],
   "source": [
    "# simple line plot\n",
    "line_fig = plt.figure(title='Time Series')\n",
    "line_fig.layout.width = '960px'\n",
    "\n",
    "# create a random walk\n",
    "y = np.random.randn(100).cumsum()\n",
    "line_mark = plt.plot(np.arange(100), y, colors=['dodgerblue'])\n",
    "\n",
    "# create a fast interval selector\n",
    "intsel = FastIntervalSelector(marks=[line_mark], scales=line_mark.scales['x'])                        \n",
    "line_fig.interaction = intsel\n",
    "\n",
    "line_fig"
   ]
  },
  {
   "cell_type": "code",
   "execution_count": null,
   "metadata": {},
   "outputs": [],
   "source": [
    "line_mark.selected is None"
   ]
  },
  {
   "cell_type": "code",
   "execution_count": null,
   "metadata": {},
   "outputs": [],
   "source": []
  }
 ],
 "metadata": {
  "kernelspec": {
   "display_name": "Python 3",
   "language": "python",
   "name": "python3"
  },
  "language_info": {
   "codemirror_mode": {
    "name": "ipython",
    "version": 3
   },
   "file_extension": ".py",
   "mimetype": "text/x-python",
   "name": "python",
   "nbconvert_exporter": "python",
   "pygments_lexer": "ipython3",
   "version": "3.7.3"
  }
 },
 "nbformat": 4,
 "nbformat_minor": 2
}
