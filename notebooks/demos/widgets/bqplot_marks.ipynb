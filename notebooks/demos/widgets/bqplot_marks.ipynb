{
 "cells": [
  {
   "cell_type": "code",
   "execution_count": null,
   "metadata": {},
   "outputs": [],
   "source": [
    "import numpy as np\n",
    "\n",
    "import ipywidgets as widgets\n",
    "from bqplot import *\n",
    "import bqplot.pyplot as plt"
   ]
  },
  {
   "cell_type": "markdown",
   "metadata": {},
   "source": [
    "Steps for creating plots:\n",
    "1. Create a figure (DOMWidget)\n",
    "2. Create one or more marks (they'll all be appended to the same figure)\n",
    "3. display the figure"
   ]
  },
  {
   "cell_type": "code",
   "execution_count": null,
   "metadata": {},
   "outputs": [],
   "source": [
    "# simple line chart\n",
    "line_fig = plt.figure()\n",
    "\n",
    "x = np.arange(-10, 10, .1)\n",
    "y = np.sin(x)\n",
    "\n",
    "line_mark = plt.plot(x, y)\n",
    "\n",
    "line_fig"
   ]
  },
  {
   "cell_type": "code",
   "execution_count": null,
   "metadata": {},
   "outputs": [],
   "source": [
    "line_mark.line_style = 'dashed'\n",
    "line_mark.colors = ['green']"
   ]
  },
  {
   "cell_type": "code",
   "execution_count": null,
   "metadata": {},
   "outputs": [],
   "source": [
    "# simple scatter plot\n",
    "scat_fig = plt.figure()\n",
    "\n",
    "# create x and y data attributes\n",
    "x, y = np.random.rand(2, 10)\n",
    "scat_mark = plt.scatter(x, y, default_size=100, stroke='black')\n",
    "scat_fig"
   ]
  },
  {
   "cell_type": "code",
   "execution_count": null,
   "metadata": {},
   "outputs": [],
   "source": [
    "scat_mark.colors = ['red']"
   ]
  },
  {
   "cell_type": "code",
   "execution_count": null,
   "metadata": {},
   "outputs": [],
   "source": [
    "# bubble chart\n",
    "bubble_fig = plt.figure()\n",
    "\n",
    "# create a few data attributes\n",
    "x, y, size = np.random.rand(3, 10)\n",
    "color = np.random.rand(10)\n",
    "color = np.concatenate([np.tile('A', 3), np.tile('B', 3), np.tile('C', 4)])\n",
    "\n",
    "plt.scales(scales={'color': OrdinalColorScale(domain=list('ABC'),\n",
    "                                              colors=['red', 'blue', 'green'])})\n",
    "\n",
    "plt.scatter(x, y, color=color, size=size, default_size=1000)\n",
    "bubble_fig"
   ]
  },
  {
   "cell_type": "code",
   "execution_count": null,
   "metadata": {},
   "outputs": [],
   "source": [
    "# bar chart\n",
    "import string\n",
    "bar_fig = plt.figure(title='Bar Chart')\n",
    "\n",
    "# custom axes options\n",
    "axes_options = {'x': {'grid_lines': 'none', 'label': 'Category'}}\n",
    "bar_mark = plt.bar(list(string.ascii_uppercase), np.random.rand(10), axes_options=axes_options)\n",
    "\n",
    "bar_fig"
   ]
  },
  {
   "cell_type": "markdown",
   "metadata": {},
   "source": [
    "`bqlot` figure is a DOMWidget and can be integrated seamlessly with other widgets (`ipywidgets` or other `bqplot` figures)"
   ]
  },
  {
   "cell_type": "code",
   "execution_count": null,
   "metadata": {},
   "outputs": [],
   "source": [
    "check_box = widgets.Checkbox(description='Show/Hide', value=True)"
   ]
  },
  {
   "cell_type": "code",
   "execution_count": null,
   "metadata": {},
   "outputs": [],
   "source": [
    "widgets.HBox([check_box, line_fig])"
   ]
  },
  {
   "cell_type": "code",
   "execution_count": null,
   "metadata": {},
   "outputs": [],
   "source": [
    "# use jsdlink to show/hide the plot\n",
    "widgets.jsdlink((check_box, 'value'), (line_mark, 'visible'))"
   ]
  },
  {
   "cell_type": "code",
   "execution_count": null,
   "metadata": {},
   "outputs": [],
   "source": [
    "widgets.HBox([line_fig, bar_fig])"
   ]
  }
 ],
 "metadata": {
  "kernelspec": {
   "display_name": "Python 3",
   "language": "python",
   "name": "python3"
  },
  "language_info": {
   "codemirror_mode": {
    "name": "ipython",
    "version": 3
   },
   "file_extension": ".py",
   "mimetype": "text/x-python",
   "name": "python",
   "nbconvert_exporter": "python",
   "pygments_lexer": "ipython3",
   "version": "3.7.3"
  }
 },
 "nbformat": 4,
 "nbformat_minor": 2
}
