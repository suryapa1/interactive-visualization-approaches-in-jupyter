{
 "cells": [
  {
   "cell_type": "markdown",
   "metadata": {},
   "source": [
    "In this exercise we'll learn how to see the impact of $\\mu$ (location) and $\\sigma$ (scale) on the plot of the normal distribution:\n",
    "\n",
    "We will learn how to:\n",
    "* Use the FloatSlider in `ipywidgets` to represent $\\mu$ and $\\sigma$ values\n",
    "* Use `bqplot` to plot the normal distribution\n",
    "* Layout the plot along with the sliders using HBox and VBox layout objects available in `ipywidgets`\n",
    "* Finally, link the sliders to the plot so that the following happens when the sliders are updated:\n",
    "  * The title of the figure changes to reflect the new values of $\\mu$ and $\\sigma$\n",
    "  * The plot updates accordingly\n",
    "\n",
    "Click the 'Voila' button in the button menus to create a dashboard\n",
    "\n",
    "To make things simple most of the code is filled in. The user should just add 1 line of code below the comment `## your code below`"
   ]
  },
  {
   "cell_type": "code",
   "execution_count": null,
   "metadata": {},
   "outputs": [],
   "source": [
    "import numpy as np\n",
    "from scipy.stats import norm # normal distribution function\n",
    "\n",
    "from ipywidgets import FloatSlider, HBox, VBox\n",
    "import bqplot.pyplot as plt"
   ]
  },
  {
   "cell_type": "code",
   "execution_count": null,
   "metadata": {},
   "outputs": [],
   "source": [
    "# create uniformly spaced x vector from -10 to 10\n",
    "x = np.linspace(-10, 10, 200)\n",
    "\n",
    "# y is normal distribution function of x\n",
    "y = norm.pdf(x, 0, 1)"
   ]
  },
  {
   "cell_type": "code",
   "execution_count": null,
   "metadata": {},
   "outputs": [],
   "source": [
    "# use two sliders to represent mu and sigma\n",
    "# remember starting values of mu and sigma are 0 and 1 respectively\n",
    "## your code below\n",
    "mu_slider = FloatSlider(description='$\\mu$', value=0, min=-5, max=5)\n",
    "sigma_slider = FloatSlider(description='$\\sigma$', value=1, min=.1, max=4)\n",
    "\n",
    "# horizontally stack the sliders\n",
    "## your code below\n",
    "slider_layout = HBox([mu_slider, sigma_slider])\n",
    "\n",
    "# display the sliders\n",
    "slider_layout"
   ]
  },
  {
   "cell_type": "markdown",
   "metadata": {},
   "source": [
    "Create the plot of the normal distribution using [pyplot](https://bqplot.readthedocs.io/en/latest/api_documentation.html#pyplot) API. \n",
    "Try setting different attributes to the line mark by looking at [Lines](https://bqplot.readthedocs.io/en/latest/_generate/bqplot.marks.Lines.html) documentation"
   ]
  },
  {
   "cell_type": "code",
   "execution_count": null,
   "metadata": {},
   "outputs": [],
   "source": [
    "# string template for the title of the figure\n",
    "title_tmpl = 'Normal Distribution (mu = {} and sigma = {})'\n",
    "\n",
    "# create figure using pyplot\n",
    "## your code below\n",
    "pdf_fig = plt.figure(title=title_tmpl.format(0, 1))\n",
    "\n",
    "# create a line mark using pyplot\n",
    "## your code below\n",
    "pdf_line = plt.plot(x, y, 'm', stroke_width=3)"
   ]
  },
  {
   "cell_type": "markdown",
   "metadata": {},
   "source": [
    "Create a callback and register it using the `observe` method of the line mark"
   ]
  },
  {
   "cell_type": "code",
   "execution_count": null,
   "metadata": {},
   "outputs": [],
   "source": [
    "def update_plot(*args):\n",
    "    \"\"\"\n",
    "    updates the norm distribution plot by using the latest \n",
    "    values of mu and sigma\n",
    "    \"\"\"\n",
    "    # fetch the values of the sliders\n",
    "    ## your code below\n",
    "    new_mu = mu_slider.value\n",
    "    new_sigma = sigma_slider.value\n",
    "    \n",
    "    # compute the new normal distribution values using norm.pdf\n",
    "    ## your code below\n",
    "    new_dist = norm.pdf(x, new_mu, new_sigma)\n",
    "    \n",
    "    # update the plot with the new values of normal distribution.\n",
    "    # which trait attribute of the plot should be updated?\n",
    "    ## your code below\n",
    "    pdf_line.y = new_dist\n",
    "    \n",
    "    # also update the fig title to using the string title template\n",
    "    ## your code below\n",
    "    pdf_fig.title = title_tmpl.format(new_mu, new_sigma)\n",
    "\n",
    "# register the above callback with the 'value' trait of the sliders\n",
    "## your code below\n",
    "for slider in [mu_slider, sigma_slider]:\n",
    "    slider.observe(update_plot, 'value')"
   ]
  },
  {
   "cell_type": "code",
   "execution_count": null,
   "metadata": {},
   "outputs": [],
   "source": [
    "# now put the sliders and the figure together into a simple dashboard using HBox/VBox\n",
    "# the plot should update now when the slider values are updated!\n",
    "\n",
    "## your code below\n",
    "final_layout = VBox([pdf_fig, slider_layout])\n",
    "\n",
    "# display the final layout\n",
    "final_layout"
   ]
  }
 ],
 "metadata": {
  "kernelspec": {
   "display_name": "Python 3",
   "language": "python",
   "name": "python3"
  },
  "language_info": {
   "codemirror_mode": {
    "name": "ipython",
    "version": 3
   },
   "file_extension": ".py",
   "mimetype": "text/x-python",
   "name": "python",
   "nbconvert_exporter": "python",
   "pygments_lexer": "ipython3",
   "version": "3.7.3"
  }
 },
 "nbformat": 4,
 "nbformat_minor": 2
}
