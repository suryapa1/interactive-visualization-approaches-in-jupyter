{
 "cells": [
  {
   "cell_type": "markdown",
   "metadata": {},
   "source": [
    "In this exercise we'll see how data visualization can help us look at relationships between two features(x and y). This is based on [Datasaurus Dozen](https://www.autodeskresearch.com/publications/samestats)\n",
    "\n",
    "In this exercise we'll learn how to:\n",
    "* Create a dropdown menu\n",
    "* Plot the `x` and `y` 1d vectors using a scatter plot\n",
    "* Link a drodown menu to the scatter plot\n",
    "* Use HTML widget to create a responsive stats table\n",
    "\n",
    "Click the 'Voila' button in the button menus to create a dashboard\n",
    "\n",
    "To make things simple most of the code is filled in. The user should just add 1 line of code below the comment `## your code below`"
   ]
  },
  {
   "cell_type": "code",
   "execution_count": null,
   "metadata": {},
   "outputs": [],
   "source": [
    "import pandas as pd\n",
    "\n",
    "import ipywidgets as widgets\n",
    "import bqplot.pyplot as plt"
   ]
  },
  {
   "cell_type": "code",
   "execution_count": null,
   "metadata": {},
   "outputs": [],
   "source": [
    "# load the dataset\n",
    "pd.set_option('precision', 3)\n",
    "datasaurus_data = pd.read_csv('../../data/DatasaurusDozen.tsv', delimiter='\\t')\n",
    "datasaurus_data.sample(5)"
   ]
  },
  {
   "cell_type": "code",
   "execution_count": null,
   "metadata": {},
   "outputs": [],
   "source": [
    "# group by dataset type and generate stats like mean, std and corr\n",
    "\n",
    "pd.set_option('precision', 2)\n",
    "\n",
    "dataset_gby = datasaurus_data.groupby('dataset')\n",
    "\n",
    "# basic stats for all datasets: mean and std\n",
    "stats = dataset_gby.agg(['mean', 'std'])\n",
    "\n",
    "# correlation between x and y for all datasets\n",
    "corr = dataset_gby.apply(lambda g: g['x'].corr(g['y']))\n",
    "\n",
    "# stats for all datasets\n",
    "stats_df = pd.concat([stats, corr], axis=1)\n",
    "stats_df.columns = ['x_mean', 'x_std', 'y_mean', 'y_std', 'corr']\n",
    "stats_df"
   ]
  },
  {
   "cell_type": "markdown",
   "metadata": {},
   "source": [
    "We'll now use `dataset_gby` and `stats_df` to understand the relationship between `x` and `y` for different datasets"
   ]
  },
  {
   "cell_type": "code",
   "execution_count": null,
   "metadata": {},
   "outputs": [],
   "source": [
    "# create a dropdown to select different datasets (basically groups in dataset_gby)\n",
    "\n",
    "## your code below\n",
    "type_dd = \n",
    "\n",
    "## create an HTML table using HTML widget to represent stats for the dataset\n",
    "# for convenience, we'll create string template with place holders for various stats\n",
    "table_tmpl = \\\n",
    "\"\"\"\n",
    "<table>\n",
    "<caption align=\"center\">Stats</caption>\n",
    "<tr>\n",
    "    <td style=\"font-weight: bold\">X Mean</td>\n",
    "    <td align=\"right\">{x_mean:.2f}</td>\n",
    "</tr>\n",
    "<tr>\n",
    "    <td style=\"font-weight: bold\">Y Mean</td>\n",
    "    <td align=\"right\">{y_mean:.2f}</td>\n",
    "</tr>\n",
    "<tr>\n",
    "    <td style=\"font-weight: bold\">X Std</td>\n",
    "    <td align=\"right\">{x_std:.2f}</td>\n",
    "</tr>\n",
    "<tr>\n",
    "    <td style=\"font-weight: bold\">Y Std</td>\n",
    "    <td align=\"right\">{y_std:.2f}</td>\n",
    "</tr>\n",
    "<tr>\n",
    "    <td style=\"font-weight: bold\">Correlation</td>\n",
    "    <td align=\"right\">{corr:.2f}</td>\n",
    "</tr>\n",
    "</table>\n",
    "\"\"\"\n",
    "\n",
    "# create an HTML widget to represent stats table\n",
    "## your code below\n",
    "stats_table = \n",
    "\n",
    "## set width/height etc. \n",
    "## your code below\n"
   ]
  },
  {
   "cell_type": "code",
   "execution_count": null,
   "metadata": {},
   "outputs": [],
   "source": [
    "#create a fig to plot the scatter of x and y (add animations to the figure)\n",
    "## your code below\n",
    "scat_fig = \n",
    "\n",
    "# create a scatter mark to plot x and y attributes of dataset selected from dropdown\n",
    "## your code below\n",
    "scat = \n",
    "\n",
    "# add x and y labels\n",
    "## your code below\n",
    "\n",
    "\n",
    "# create a callback to update the scatter and the stats table\n",
    "\n",
    "def update(*args):\n",
    "    ## update scatter plot based on the selected dataset.\n",
    "    ## use the dataframes created above\n",
    "    dataset = type_dd.value\n",
    "    \n",
    "    ## your code below\n",
    "    \n",
    "    # obtain stats for the selected dataset from stats_df\n",
    "    # and update the stats table\n",
    "    # use the table_tmpl string template to set the value of the table\n",
    "    \n",
    "    ## your code below\n",
    "    \n",
    "# register the callback with the dropdown\n",
    "## your code below\n",
    "\n",
    "# invoke the callback on startup\n",
    "update(None)\n",
    "\n",
    "# layout all the three widgets (dropdown, scatter and stats table)\n",
    "# to create a simple dashboard\n",
    "## your code below\n"
   ]
  }
 ],
 "metadata": {
  "kernelspec": {
   "display_name": "Python 3",
   "language": "python",
   "name": "python3"
  },
  "language_info": {
   "codemirror_mode": {
    "name": "ipython",
    "version": 3
   },
   "file_extension": ".py",
   "mimetype": "text/x-python",
   "name": "python",
   "nbconvert_exporter": "python",
   "pygments_lexer": "ipython3",
   "version": "3.7.3"
  }
 },
 "nbformat": 4,
 "nbformat_minor": 2
}
