{
 "cells": [
  {
   "cell_type": "markdown",
   "metadata": {},
   "source": [
    "In this exercise we'll learn how to:\n",
    "* Plot the `x` and `y` 1d vectors using a scatter plot\n",
    "* Add scatter plot 'enable_move' interaction which lets the user move the points (there by updating the `x` and `y` attributes of the scatter plot)\n",
    "* Add an additional line mark (regression line) to the same figure as the scatter plot\n",
    "* Link the regression line to the updates of the scatter plot using the `observe` method on the traits of scatter plot\n",
    "* Add a label (with latex) which displays the regression line equation in real time\n",
    "\n",
    "Click the 'Voila' button in the button menus to create a dashboard\n",
    "\n",
    "To make things simple most of the code is filled in. The user should just add 1 line of code below the comment `## your code below`"
   ]
  },
  {
   "cell_type": "code",
   "execution_count": null,
   "metadata": {},
   "outputs": [],
   "source": [
    "import numpy as np\n",
    "\n",
    "from ipywidgets import Button, VBox, HBox, Label\n",
    "import bqplot.pyplot as plt\n",
    "from bqplot import LinearScale"
   ]
  },
  {
   "cell_type": "code",
   "execution_count": null,
   "metadata": {},
   "outputs": [],
   "source": [
    "def linreg(x, y):\n",
    "    \"\"\"\n",
    "    computes intercept and slope for a simple\n",
    "    ols regression. so the relationship between y and x\n",
    "    is y = a + bx\n",
    "    \n",
    "    Returns\n",
    "    -------\n",
    "    tuple: intercept, slope\n",
    "    \"\"\"\n",
    "    b = np.cov(x, y)[0, 1] / np.var(x)\n",
    "    a = np.mean(y) - b * np.mean(x)\n",
    "    return a, b"
   ]
  },
  {
   "cell_type": "code",
   "execution_count": null,
   "metadata": {},
   "outputs": [],
   "source": [
    "# create a sample x and y 1d vectors\n",
    "x = np.linspace(-10, 10, 50)\n",
    "y = 5 * x + 7 + np.random.randn(50) * 20"
   ]
  },
  {
   "cell_type": "code",
   "execution_count": null,
   "metadata": {},
   "outputs": [],
   "source": [
    "# Create a figure and give it a title (add animation to figure)\n",
    "## your code below\n",
    "         \n",
    "# create scatter of x and y 1d vectors (add enable move interaction)\n",
    "## your code below\n",
    "\n",
    "# create a line mark which serves as a regression line\n",
    "x = np.arange(-15, 15, .1)\n",
    "## your code below\n",
    "\n",
    "# set min/max on x and y scales using pyplot \n",
    "plt.xlim(-15, 15)\n",
    "plt.ylim(-150, 150)\n",
    "\n",
    "# set X and Y labels using pyplot\n",
    "## your code below\n",
    "\n",
    "# set the height and width of the figure using layout object\n",
    "## your code below\n",
    "\n",
    "# Add a label widget to display the equation of the regression line\n",
    "\n",
    "# string template for the label\n",
    "eqn_tmpl = 'Regression Line: ${:.2f} + {:.2f}x$'\n",
    "\n",
    "# create the label widget\n",
    "## your code below\n",
    "\n",
    "# callback to update the regression line\n",
    "def update_regression_line(*args):\n",
    "    # update the reg_line with the results of running \n",
    "    # the ols regression on \n",
    "    # x and y attributes of the scatter plot\n",
    "    # which atribute of regression line should be updated?\n",
    "    ## your code below\n",
    "    \n",
    "    # update the equation label with new regression line\n",
    "    ## your code below\n",
    "\n",
    "# register the callback with changes to scatter mark\n",
    "## your code below\n",
    "\n",
    "# invoke the callback to update the regression line when the figure is displayed\n",
    "update_regression_line(None)\n",
    "\n",
    "# finally layout the widgets using HBox/VBox layouts\n",
    "## your code here\n"
   ]
  }
 ],
 "metadata": {
  "kernelspec": {
   "display_name": "Python 3",
   "language": "python",
   "name": "python3"
  },
  "language_info": {
   "codemirror_mode": {
    "name": "ipython",
    "version": 3
   },
   "file_extension": ".py",
   "mimetype": "text/x-python",
   "name": "python",
   "nbconvert_exporter": "python",
   "pygments_lexer": "ipython3",
   "version": "3.7.3"
  }
 },
 "nbformat": 4,
 "nbformat_minor": 2
}
